{
  "nbformat": 4,
  "nbformat_minor": 0,
  "metadata": {
    "colab": {
      "provenance": [],
      "authorship_tag": "ABX9TyOgljnOT21ddqPseSUuelzN",
      "include_colab_link": true
    },
    "kernelspec": {
      "name": "python3",
      "display_name": "Python 3"
    },
    "language_info": {
      "name": "python"
    }
  },
  "cells": [
    {
      "cell_type": "markdown",
      "metadata": {
        "id": "view-in-github",
        "colab_type": "text"
      },
      "source": [
        "<a href=\"https://colab.research.google.com/github/jamalrucse/CSE2142PullRequest/blob/main/Untitled3.ipynb\" target=\"_parent\"><img src=\"https://colab.research.google.com/assets/colab-badge.svg\" alt=\"Open In Colab\"/></a>"
      ]
    },
    {
      "cell_type": "code",
      "source": [
        "a=4\n",
        "b=int(input(\"Enter the value of b:\"))\n",
        "print(\"Sum:\", a+ b)"
      ],
      "metadata": {
        "id": "S0Qb55w3V3pm",
        "colab": {
          "base_uri": "https://localhost:8080/"
        },
        "outputId": "c7f2f057-33e4-4294-8fda-22957cae9571"
      },
      "execution_count": null,
      "outputs": [
        {
          "output_type": "stream",
          "name": "stdout",
          "text": [
            "Enter the value of b:5\n",
            "Sum: 9\n"
          ]
        }
      ]
    }
  ]
}